{
  "nbformat": 4,
  "nbformat_minor": 0,
  "metadata": {
    "colab": {
      "provenance": [],
      "authorship_tag": "ABX9TyOXMpPt1vbVjkuKosHOj/eE",
      "include_colab_link": true
    },
    "kernelspec": {
      "name": "python3",
      "display_name": "Python 3"
    },
    "language_info": {
      "name": "python"
    }
  },
  "cells": [
    {
      "cell_type": "markdown",
      "metadata": {
        "id": "view-in-github",
        "colab_type": "text"
      },
      "source": [
        "<a href=\"https://colab.research.google.com/github/soholade/Capstone-Project-Fraud-Detection-and-Customer-Analysis-in-E-commerce/blob/main/Logistic_Regression_Model_for_Predicting_Fraudulent_E_Commerce_Transactions.ipynb\" target=\"_parent\"><img src=\"https://colab.research.google.com/assets/colab-badge.svg\" alt=\"Open In Colab\"/></a>"
      ]
    },
    {
      "cell_type": "markdown",
      "source": [
        "# **Predicting fraudulent e-commerce transactions using logistic regression**"
      ],
      "metadata": {
        "id": "_GKz-c7Y6CVr"
      }
    },
    {
      "cell_type": "markdown",
      "source": [
        "***What is this project trying to achieve?***"
      ],
      "metadata": {
        "id": "gwOinJTgXCvD"
      }
    },
    {
      "cell_type": "markdown",
      "source": [
        "The objective is to create a logistic regression model that would predict whether a purchase made online is fraudulent or legitimate. The dataset used is synthetically engineered, provides transaction data from an e-commerce platform with a focus on fraud detection and includes over 23,000 records and 16 attributes (dataset source: https://www.kaggle.com/datasets/shriyashjagtap/fraudulent-e-commerce-transactions)."
      ],
      "metadata": {
        "id": "Hl8_En1eXGwz"
      }
    },
    {
      "cell_type": "markdown",
      "source": [
        "***Dataset attributes:***"
      ],
      "metadata": {
        "id": "s0nIMqdSY6dx"
      }
    },
    {
      "cell_type": "markdown",
      "source": [
        "*Variables:*\n",
        "*   Transaction ID: A unique identifier for each transaction;\n",
        "*   Customer ID: A unique identifier for each customer;\n",
        "*   Transaction Amount: The total amount of money exchanged in the transaction;\n",
        "*   Transaction Date: The date and time when the transaction took place.\n",
        "*   Payment Method: The method used to complete the transaction (e.g., credit card, PayPal, etc.);\n",
        "*   Product Category: The category of the product involved in the transaction;\n",
        "*   Quantity: The number of products involved in the transaction;\n",
        "*   Customer Age: The age of the customer making the transaction;\n",
        "*   Customer Location: The geographical location of the customer;\n",
        "*  Device Used: The type of device used to make the transaction (e.g., mobile, desktop);\n",
        "*   IP Address: The IP address of the device used for the transaction;\n",
        "*   Shipping Address: The address where the product was shipped;\n",
        "*   Billing Address: The address associated with the payment method;\n",
        "*   Account Age Days: The age of the customer's account in days at the time of the transaction;\n",
        "*   Transaction Hour: The hour of the day when the transaction occurred..\n",
        "\n",
        "*Predict variable (desired target):*\n",
        "*   Is Fraudulent: A binary indicator of whether the transaction is fraudulent (1 for fraudulent, 0 for legitimate)."
      ],
      "metadata": {
        "id": "1XcEWurmY-aS"
      }
    },
    {
      "cell_type": "markdown",
      "source": [
        "***Working on the logistic regression model***"
      ],
      "metadata": {
        "id": "AmHuzPGCZB0i"
      }
    },
    {
      "cell_type": "markdown",
      "source": [
        "**1. Loading the dataset**"
      ],
      "metadata": {
        "id": "JqcNE34k6Q5c"
      }
    },
    {
      "cell_type": "code",
      "source": [
        "from google.colab import auth\n",
        "auth.authenticate_user()\n",
        "\n",
        "import gspread\n",
        "from google.auth import default\n",
        "creds, _ = default()\n",
        "gs = gspread.authorize(creds)\n",
        "\n",
        "import numpy as np\n",
        "import pandas as pd\n",
        "import seaborn as sns\n",
        "import matplotlib.pyplot as plt\n",
        "from sklearn.model_selection import train_test_split\n",
        "from sklearn.linear_model import LogisticRegression\n",
        "from sklearn.metrics import confusion_matrix, accuracy_score, recall_score, precision_score, f1_score, roc_curve\n",
        "\n",
        "worksheet = gs.open('Fraudulent_E-Commerce_Transaction_Data_2').sheet1\n",
        "\n",
        "#get_all_values gives a list of rows\n",
        "rows = worksheet.get_all_values()\n",
        "print(rows)\n",
        "\n",
        "#creating DataFrame from rows\n",
        "fraud_detection = pd.DataFrame.from_records(rows[1:], columns=rows[0])\n",
        "fraud_detection.head()"
      ],
      "metadata": {
        "colab": {
          "base_uri": "https://localhost:8080/",
          "height": 588
        },
        "id": "gMcngHbT6kA6",
        "outputId": "9b76fc11-b28d-42af-9a94-5621a780ac9a"
      },
      "execution_count": null,
      "outputs": [
        {
          "output_type": "stream",
          "name": "stderr",
          "text": [
            "IOPub data rate exceeded.\n",
            "The notebook server will temporarily stop sending output\n",
            "to the client in order to avoid crashing it.\n",
            "To change this limit, set the config variable\n",
            "`--NotebookApp.iopub_data_rate_limit`.\n",
            "\n",
            "Current values:\n",
            "NotebookApp.iopub_data_rate_limit=1000000.0 (bytes/sec)\n",
            "NotebookApp.rate_limit_window=3.0 (secs)\n",
            "\n"
          ]
        },
        {
          "output_type": "execute_result",
          "data": {
            "text/plain": [
              "                         Transaction ID                           Customer ID  \\\n",
              "0  c12e07a0-8a06-4c0d-b5cc-04f3af688570  8ca9f102-02a4-4207-ab63-484e83a1bdf0   \n",
              "1  7d187603-7961-4fce-9827-9698e2b6a201  4d158416-caae-4b09-bd5b-15235deb9129   \n",
              "2  f2c14f9d-92df-4aaf-8931-ceaf4e63ed72  ccae47b8-75c7-4f5a-aa9e-957deced2137   \n",
              "3  e9949bfa-194d-486b-84da-9565fca9e5ce  b04960c0-aeee-4907-b1cd-4819016adcef   \n",
              "4  7362837c-7538-434e-8731-0df713f5f26d  de9d6351-b3a7-4bc7-9a55-8f013eb66928   \n",
              "\n",
              "  Transaction Amount  Transaction Date Payment Method Product Category  \\\n",
              "0              42.32  24/03/2024 23:42         PayPal      electronics   \n",
              "1             301.34  22/01/2024 00:53    credit card      electronics   \n",
              "2             340.32  22/01/2024 08:06     debit card     toys & games   \n",
              "3              95.77  16/01/2024 20:34    credit card      electronics   \n",
              "4              77.45  16/01/2024 15:47    credit card         clothing   \n",
              "\n",
              "  Quantity Customer Age    Customer Location Device Used       IP Address  \\\n",
              "0        1           40      East Jameshaven     desktop    110.87.246.85   \n",
              "1        3           35             Kingstad      tablet    14.73.104.153   \n",
              "2        5           29           North Ryan     desktop      67.58.94.93   \n",
              "3        5           45           Kaylaville      mobile  202.122.126.216   \n",
              "4        5           42  North Edwardborough     desktop     96.77.232.76   \n",
              "\n",
              "  Is Fraudulent Account Age Days Transaction Hour  \n",
              "0             0              282               23  \n",
              "1             0              223                0  \n",
              "2             0              360                8  \n",
              "3             0              325               20  \n",
              "4             0              116               15  "
            ],
            "text/html": [
              "\n",
              "  <div id=\"df-be009890-64fe-456d-a499-508fe15ae59b\" class=\"colab-df-container\">\n",
              "    <div>\n",
              "<style scoped>\n",
              "    .dataframe tbody tr th:only-of-type {\n",
              "        vertical-align: middle;\n",
              "    }\n",
              "\n",
              "    .dataframe tbody tr th {\n",
              "        vertical-align: top;\n",
              "    }\n",
              "\n",
              "    .dataframe thead th {\n",
              "        text-align: right;\n",
              "    }\n",
              "</style>\n",
              "<table border=\"1\" class=\"dataframe\">\n",
              "  <thead>\n",
              "    <tr style=\"text-align: right;\">\n",
              "      <th></th>\n",
              "      <th>Transaction ID</th>\n",
              "      <th>Customer ID</th>\n",
              "      <th>Transaction Amount</th>\n",
              "      <th>Transaction Date</th>\n",
              "      <th>Payment Method</th>\n",
              "      <th>Product Category</th>\n",
              "      <th>Quantity</th>\n",
              "      <th>Customer Age</th>\n",
              "      <th>Customer Location</th>\n",
              "      <th>Device Used</th>\n",
              "      <th>IP Address</th>\n",
              "      <th>Is Fraudulent</th>\n",
              "      <th>Account Age Days</th>\n",
              "      <th>Transaction Hour</th>\n",
              "    </tr>\n",
              "  </thead>\n",
              "  <tbody>\n",
              "    <tr>\n",
              "      <th>0</th>\n",
              "      <td>c12e07a0-8a06-4c0d-b5cc-04f3af688570</td>\n",
              "      <td>8ca9f102-02a4-4207-ab63-484e83a1bdf0</td>\n",
              "      <td>42.32</td>\n",
              "      <td>24/03/2024 23:42</td>\n",
              "      <td>PayPal</td>\n",
              "      <td>electronics</td>\n",
              "      <td>1</td>\n",
              "      <td>40</td>\n",
              "      <td>East Jameshaven</td>\n",
              "      <td>desktop</td>\n",
              "      <td>110.87.246.85</td>\n",
              "      <td>0</td>\n",
              "      <td>282</td>\n",
              "      <td>23</td>\n",
              "    </tr>\n",
              "    <tr>\n",
              "      <th>1</th>\n",
              "      <td>7d187603-7961-4fce-9827-9698e2b6a201</td>\n",
              "      <td>4d158416-caae-4b09-bd5b-15235deb9129</td>\n",
              "      <td>301.34</td>\n",
              "      <td>22/01/2024 00:53</td>\n",
              "      <td>credit card</td>\n",
              "      <td>electronics</td>\n",
              "      <td>3</td>\n",
              "      <td>35</td>\n",
              "      <td>Kingstad</td>\n",
              "      <td>tablet</td>\n",
              "      <td>14.73.104.153</td>\n",
              "      <td>0</td>\n",
              "      <td>223</td>\n",
              "      <td>0</td>\n",
              "    </tr>\n",
              "    <tr>\n",
              "      <th>2</th>\n",
              "      <td>f2c14f9d-92df-4aaf-8931-ceaf4e63ed72</td>\n",
              "      <td>ccae47b8-75c7-4f5a-aa9e-957deced2137</td>\n",
              "      <td>340.32</td>\n",
              "      <td>22/01/2024 08:06</td>\n",
              "      <td>debit card</td>\n",
              "      <td>toys &amp; games</td>\n",
              "      <td>5</td>\n",
              "      <td>29</td>\n",
              "      <td>North Ryan</td>\n",
              "      <td>desktop</td>\n",
              "      <td>67.58.94.93</td>\n",
              "      <td>0</td>\n",
              "      <td>360</td>\n",
              "      <td>8</td>\n",
              "    </tr>\n",
              "    <tr>\n",
              "      <th>3</th>\n",
              "      <td>e9949bfa-194d-486b-84da-9565fca9e5ce</td>\n",
              "      <td>b04960c0-aeee-4907-b1cd-4819016adcef</td>\n",
              "      <td>95.77</td>\n",
              "      <td>16/01/2024 20:34</td>\n",
              "      <td>credit card</td>\n",
              "      <td>electronics</td>\n",
              "      <td>5</td>\n",
              "      <td>45</td>\n",
              "      <td>Kaylaville</td>\n",
              "      <td>mobile</td>\n",
              "      <td>202.122.126.216</td>\n",
              "      <td>0</td>\n",
              "      <td>325</td>\n",
              "      <td>20</td>\n",
              "    </tr>\n",
              "    <tr>\n",
              "      <th>4</th>\n",
              "      <td>7362837c-7538-434e-8731-0df713f5f26d</td>\n",
              "      <td>de9d6351-b3a7-4bc7-9a55-8f013eb66928</td>\n",
              "      <td>77.45</td>\n",
              "      <td>16/01/2024 15:47</td>\n",
              "      <td>credit card</td>\n",
              "      <td>clothing</td>\n",
              "      <td>5</td>\n",
              "      <td>42</td>\n",
              "      <td>North Edwardborough</td>\n",
              "      <td>desktop</td>\n",
              "      <td>96.77.232.76</td>\n",
              "      <td>0</td>\n",
              "      <td>116</td>\n",
              "      <td>15</td>\n",
              "    </tr>\n",
              "  </tbody>\n",
              "</table>\n",
              "</div>\n",
              "    <div class=\"colab-df-buttons\">\n",
              "\n",
              "  <div class=\"colab-df-container\">\n",
              "    <button class=\"colab-df-convert\" onclick=\"convertToInteractive('df-be009890-64fe-456d-a499-508fe15ae59b')\"\n",
              "            title=\"Convert this dataframe to an interactive table.\"\n",
              "            style=\"display:none;\">\n",
              "\n",
              "  <svg xmlns=\"http://www.w3.org/2000/svg\" height=\"24px\" viewBox=\"0 -960 960 960\">\n",
              "    <path d=\"M120-120v-720h720v720H120Zm60-500h600v-160H180v160Zm220 220h160v-160H400v160Zm0 220h160v-160H400v160ZM180-400h160v-160H180v160Zm440 0h160v-160H620v160ZM180-180h160v-160H180v160Zm440 0h160v-160H620v160Z\"/>\n",
              "  </svg>\n",
              "    </button>\n",
              "\n",
              "  <style>\n",
              "    .colab-df-container {\n",
              "      display:flex;\n",
              "      gap: 12px;\n",
              "    }\n",
              "\n",
              "    .colab-df-convert {\n",
              "      background-color: #E8F0FE;\n",
              "      border: none;\n",
              "      border-radius: 50%;\n",
              "      cursor: pointer;\n",
              "      display: none;\n",
              "      fill: #1967D2;\n",
              "      height: 32px;\n",
              "      padding: 0 0 0 0;\n",
              "      width: 32px;\n",
              "    }\n",
              "\n",
              "    .colab-df-convert:hover {\n",
              "      background-color: #E2EBFA;\n",
              "      box-shadow: 0px 1px 2px rgba(60, 64, 67, 0.3), 0px 1px 3px 1px rgba(60, 64, 67, 0.15);\n",
              "      fill: #174EA6;\n",
              "    }\n",
              "\n",
              "    .colab-df-buttons div {\n",
              "      margin-bottom: 4px;\n",
              "    }\n",
              "\n",
              "    [theme=dark] .colab-df-convert {\n",
              "      background-color: #3B4455;\n",
              "      fill: #D2E3FC;\n",
              "    }\n",
              "\n",
              "    [theme=dark] .colab-df-convert:hover {\n",
              "      background-color: #434B5C;\n",
              "      box-shadow: 0px 1px 3px 1px rgba(0, 0, 0, 0.15);\n",
              "      filter: drop-shadow(0px 1px 2px rgba(0, 0, 0, 0.3));\n",
              "      fill: #FFFFFF;\n",
              "    }\n",
              "  </style>\n",
              "\n",
              "    <script>\n",
              "      const buttonEl =\n",
              "        document.querySelector('#df-be009890-64fe-456d-a499-508fe15ae59b button.colab-df-convert');\n",
              "      buttonEl.style.display =\n",
              "        google.colab.kernel.accessAllowed ? 'block' : 'none';\n",
              "\n",
              "      async function convertToInteractive(key) {\n",
              "        const element = document.querySelector('#df-be009890-64fe-456d-a499-508fe15ae59b');\n",
              "        const dataTable =\n",
              "          await google.colab.kernel.invokeFunction('convertToInteractive',\n",
              "                                                    [key], {});\n",
              "        if (!dataTable) return;\n",
              "\n",
              "        const docLinkHtml = 'Like what you see? Visit the ' +\n",
              "          '<a target=\"_blank\" href=https://colab.research.google.com/notebooks/data_table.ipynb>data table notebook</a>'\n",
              "          + ' to learn more about interactive tables.';\n",
              "        element.innerHTML = '';\n",
              "        dataTable['output_type'] = 'display_data';\n",
              "        await google.colab.output.renderOutput(dataTable, element);\n",
              "        const docLink = document.createElement('div');\n",
              "        docLink.innerHTML = docLinkHtml;\n",
              "        element.appendChild(docLink);\n",
              "      }\n",
              "    </script>\n",
              "  </div>\n",
              "\n",
              "\n",
              "<div id=\"df-974b717f-2e1c-4c67-a0d5-808744a557dc\">\n",
              "  <button class=\"colab-df-quickchart\" onclick=\"quickchart('df-974b717f-2e1c-4c67-a0d5-808744a557dc')\"\n",
              "            title=\"Suggest charts\"\n",
              "            style=\"display:none;\">\n",
              "\n",
              "<svg xmlns=\"http://www.w3.org/2000/svg\" height=\"24px\"viewBox=\"0 0 24 24\"\n",
              "     width=\"24px\">\n",
              "    <g>\n",
              "        <path d=\"M19 3H5c-1.1 0-2 .9-2 2v14c0 1.1.9 2 2 2h14c1.1 0 2-.9 2-2V5c0-1.1-.9-2-2-2zM9 17H7v-7h2v7zm4 0h-2V7h2v10zm4 0h-2v-4h2v4z\"/>\n",
              "    </g>\n",
              "</svg>\n",
              "  </button>\n",
              "\n",
              "<style>\n",
              "  .colab-df-quickchart {\n",
              "      --bg-color: #E8F0FE;\n",
              "      --fill-color: #1967D2;\n",
              "      --hover-bg-color: #E2EBFA;\n",
              "      --hover-fill-color: #174EA6;\n",
              "      --disabled-fill-color: #AAA;\n",
              "      --disabled-bg-color: #DDD;\n",
              "  }\n",
              "\n",
              "  [theme=dark] .colab-df-quickchart {\n",
              "      --bg-color: #3B4455;\n",
              "      --fill-color: #D2E3FC;\n",
              "      --hover-bg-color: #434B5C;\n",
              "      --hover-fill-color: #FFFFFF;\n",
              "      --disabled-bg-color: #3B4455;\n",
              "      --disabled-fill-color: #666;\n",
              "  }\n",
              "\n",
              "  .colab-df-quickchart {\n",
              "    background-color: var(--bg-color);\n",
              "    border: none;\n",
              "    border-radius: 50%;\n",
              "    cursor: pointer;\n",
              "    display: none;\n",
              "    fill: var(--fill-color);\n",
              "    height: 32px;\n",
              "    padding: 0;\n",
              "    width: 32px;\n",
              "  }\n",
              "\n",
              "  .colab-df-quickchart:hover {\n",
              "    background-color: var(--hover-bg-color);\n",
              "    box-shadow: 0 1px 2px rgba(60, 64, 67, 0.3), 0 1px 3px 1px rgba(60, 64, 67, 0.15);\n",
              "    fill: var(--button-hover-fill-color);\n",
              "  }\n",
              "\n",
              "  .colab-df-quickchart-complete:disabled,\n",
              "  .colab-df-quickchart-complete:disabled:hover {\n",
              "    background-color: var(--disabled-bg-color);\n",
              "    fill: var(--disabled-fill-color);\n",
              "    box-shadow: none;\n",
              "  }\n",
              "\n",
              "  .colab-df-spinner {\n",
              "    border: 2px solid var(--fill-color);\n",
              "    border-color: transparent;\n",
              "    border-bottom-color: var(--fill-color);\n",
              "    animation:\n",
              "      spin 1s steps(1) infinite;\n",
              "  }\n",
              "\n",
              "  @keyframes spin {\n",
              "    0% {\n",
              "      border-color: transparent;\n",
              "      border-bottom-color: var(--fill-color);\n",
              "      border-left-color: var(--fill-color);\n",
              "    }\n",
              "    20% {\n",
              "      border-color: transparent;\n",
              "      border-left-color: var(--fill-color);\n",
              "      border-top-color: var(--fill-color);\n",
              "    }\n",
              "    30% {\n",
              "      border-color: transparent;\n",
              "      border-left-color: var(--fill-color);\n",
              "      border-top-color: var(--fill-color);\n",
              "      border-right-color: var(--fill-color);\n",
              "    }\n",
              "    40% {\n",
              "      border-color: transparent;\n",
              "      border-right-color: var(--fill-color);\n",
              "      border-top-color: var(--fill-color);\n",
              "    }\n",
              "    60% {\n",
              "      border-color: transparent;\n",
              "      border-right-color: var(--fill-color);\n",
              "    }\n",
              "    80% {\n",
              "      border-color: transparent;\n",
              "      border-right-color: var(--fill-color);\n",
              "      border-bottom-color: var(--fill-color);\n",
              "    }\n",
              "    90% {\n",
              "      border-color: transparent;\n",
              "      border-bottom-color: var(--fill-color);\n",
              "    }\n",
              "  }\n",
              "</style>\n",
              "\n",
              "  <script>\n",
              "    async function quickchart(key) {\n",
              "      const quickchartButtonEl =\n",
              "        document.querySelector('#' + key + ' button');\n",
              "      quickchartButtonEl.disabled = true;  // To prevent multiple clicks.\n",
              "      quickchartButtonEl.classList.add('colab-df-spinner');\n",
              "      try {\n",
              "        const charts = await google.colab.kernel.invokeFunction(\n",
              "            'suggestCharts', [key], {});\n",
              "      } catch (error) {\n",
              "        console.error('Error during call to suggestCharts:', error);\n",
              "      }\n",
              "      quickchartButtonEl.classList.remove('colab-df-spinner');\n",
              "      quickchartButtonEl.classList.add('colab-df-quickchart-complete');\n",
              "    }\n",
              "    (() => {\n",
              "      let quickchartButtonEl =\n",
              "        document.querySelector('#df-974b717f-2e1c-4c67-a0d5-808744a557dc button');\n",
              "      quickchartButtonEl.style.display =\n",
              "        google.colab.kernel.accessAllowed ? 'block' : 'none';\n",
              "    })();\n",
              "  </script>\n",
              "</div>\n",
              "    </div>\n",
              "  </div>\n"
            ],
            "application/vnd.google.colaboratory.intrinsic+json": {
              "type": "dataframe",
              "variable_name": "fraud_detection",
              "summary": "{\n  \"name\": \"fraud_detection\",\n  \"rows\": 23634,\n  \"fields\": [\n    {\n      \"column\": \"Transaction ID\",\n      \"properties\": {\n        \"dtype\": \"string\",\n        \"num_unique_values\": 23634,\n        \"samples\": [\n          \"cbf3256e-9891-4b34-b05f-b30aacaf3431\",\n          \"7524db8d-421c-444b-8e15-eac3db747f13\",\n          \"9d245f7e-939e-48e8-902f-4a9b2cc1bf0e\"\n        ],\n        \"semantic_type\": \"\",\n        \"description\": \"\"\n      }\n    },\n    {\n      \"column\": \"Customer ID\",\n      \"properties\": {\n        \"dtype\": \"string\",\n        \"num_unique_values\": 23634,\n        \"samples\": [\n          \"61408c13-6016-4544-bce8-623a25392125\",\n          \"c37d798f-181b-462b-97ec-6d0fed18e896\",\n          \"30e4fd0b-cc33-4ed4-9731-d584997024c1\"\n        ],\n        \"semantic_type\": \"\",\n        \"description\": \"\"\n      }\n    },\n    {\n      \"column\": \"Transaction Amount\",\n      \"properties\": {\n        \"dtype\": \"string\",\n        \"num_unique_values\": 18372,\n        \"samples\": [\n          \"283.92\",\n          \"34.8\",\n          \"125.8\"\n        ],\n        \"semantic_type\": \"\",\n        \"description\": \"\"\n      }\n    },\n    {\n      \"column\": \"Transaction Date\",\n      \"properties\": {\n        \"dtype\": \"object\",\n        \"num_unique_values\": 21715,\n        \"samples\": [\n          \"10/03/2024 01:12\",\n          \"11/03/2024 15:13\",\n          \"06/01/2024 19:35\"\n        ],\n        \"semantic_type\": \"\",\n        \"description\": \"\"\n      }\n    },\n    {\n      \"column\": \"Payment Method\",\n      \"properties\": {\n        \"dtype\": \"category\",\n        \"num_unique_values\": 4,\n        \"samples\": [\n          \"credit card\",\n          \"bank transfer\",\n          \"PayPal\"\n        ],\n        \"semantic_type\": \"\",\n        \"description\": \"\"\n      }\n    },\n    {\n      \"column\": \"Product Category\",\n      \"properties\": {\n        \"dtype\": \"category\",\n        \"num_unique_values\": 5,\n        \"samples\": [\n          \"toys & games\",\n          \"health & beauty\",\n          \"clothing\"\n        ],\n        \"semantic_type\": \"\",\n        \"description\": \"\"\n      }\n    },\n    {\n      \"column\": \"Quantity\",\n      \"properties\": {\n        \"dtype\": \"category\",\n        \"num_unique_values\": 5,\n        \"samples\": [\n          \"3\",\n          \"2\",\n          \"5\"\n        ],\n        \"semantic_type\": \"\",\n        \"description\": \"\"\n      }\n    },\n    {\n      \"column\": \"Customer Age\",\n      \"properties\": {\n        \"dtype\": \"category\",\n        \"num_unique_values\": 74,\n        \"samples\": [\n          \"42\",\n          \"63\",\n          \"48\"\n        ],\n        \"semantic_type\": \"\",\n        \"description\": \"\"\n      }\n    },\n    {\n      \"column\": \"Customer Location\",\n      \"properties\": {\n        \"dtype\": \"string\",\n        \"num_unique_values\": 14868,\n        \"samples\": [\n          \"East Jamesland\",\n          \"Lake Matthewmouth\",\n          \"Markport\"\n        ],\n        \"semantic_type\": \"\",\n        \"description\": \"\"\n      }\n    },\n    {\n      \"column\": \"Device Used\",\n      \"properties\": {\n        \"dtype\": \"category\",\n        \"num_unique_values\": 3,\n        \"samples\": [\n          \"desktop\",\n          \"tablet\",\n          \"mobile\"\n        ],\n        \"semantic_type\": \"\",\n        \"description\": \"\"\n      }\n    },\n    {\n      \"column\": \"IP Address\",\n      \"properties\": {\n        \"dtype\": \"string\",\n        \"num_unique_values\": 23634,\n        \"samples\": [\n          \"18.152.2.31\",\n          \"202.132.81.148\",\n          \"136.59.210.194\"\n        ],\n        \"semantic_type\": \"\",\n        \"description\": \"\"\n      }\n    },\n    {\n      \"column\": \"Is Fraudulent\",\n      \"properties\": {\n        \"dtype\": \"category\",\n        \"num_unique_values\": 2,\n        \"samples\": [\n          \"1\",\n          \"0\"\n        ],\n        \"semantic_type\": \"\",\n        \"description\": \"\"\n      }\n    },\n    {\n      \"column\": \"Account Age Days\",\n      \"properties\": {\n        \"dtype\": \"category\",\n        \"num_unique_values\": 365,\n        \"samples\": [\n          \"24\",\n          \"61\"\n        ],\n        \"semantic_type\": \"\",\n        \"description\": \"\"\n      }\n    },\n    {\n      \"column\": \"Transaction Hour\",\n      \"properties\": {\n        \"dtype\": \"category\",\n        \"num_unique_values\": 24,\n        \"samples\": [\n          \"12\",\n          \"21\"\n        ],\n        \"semantic_type\": \"\",\n        \"description\": \"\"\n      }\n    }\n  ]\n}"
            }
          },
          "metadata": {},
          "execution_count": 2
        }
      ]
    },
    {
      "cell_type": "markdown",
      "source": [
        "**2. Exploring the dataset**"
      ],
      "metadata": {
        "id": "5O2f9bneaLmT"
      }
    },
    {
      "cell_type": "markdown",
      "source": [
        "*2.1. Renaming the columns*"
      ],
      "metadata": {
        "id": "ItuWqkoG8gAL"
      }
    },
    {
      "cell_type": "code",
      "source": [
        "dict = {'Transaction ID': 'TransactionID',\n",
        "        'Customer ID': 'CustomerID',\n",
        "        'Transaction Amount': 'TransactionAmount',\n",
        "        'Transaction Date': 'TransactionDate',\n",
        "        'Payment Method': 'PaymentMethod',\n",
        "        'Product Category': 'ProductCategory',\n",
        "        'Customer Age': 'CustomerAge',\n",
        "        'Customer Location': 'CustomerLocation',\n",
        "        'Device Used': 'DeviceUsed',\n",
        "        'IP Address': 'IPAddress',\n",
        "        'Is Fraudulent': 'IsFraudulent',\n",
        "        'Account Age Days': 'AccountAgeDays',\n",
        "        'Transaction Hour': 'TransactionHour'}\n",
        "\n",
        "fraud_detection.rename(columns=dict,\n",
        "          inplace=True)"
      ],
      "metadata": {
        "id": "cPvuPVzN8gKa"
      },
      "execution_count": null,
      "outputs": []
    },
    {
      "cell_type": "markdown",
      "source": [
        "*2.2. Checking how many transactions in the dataset are fraudulent*\n"
      ],
      "metadata": {
        "id": "rpo4i4Z7asWr"
      }
    },
    {
      "cell_type": "code",
      "source": [
        "fraud_detection['IsFraudulent'].value_counts()"
      ],
      "metadata": {
        "colab": {
          "base_uri": "https://localhost:8080/"
        },
        "id": "XwwFKJrkawLD",
        "outputId": "eec40c7b-6699-4855-af8b-4366b991440b"
      },
      "execution_count": null,
      "outputs": [
        {
          "output_type": "execute_result",
          "data": {
            "text/plain": [
              "IsFraudulent\n",
              "0    22412\n",
              "1     1222\n",
              "Name: count, dtype: int64"
            ]
          },
          "metadata": {},
          "execution_count": 4
        }
      ]
    },
    {
      "cell_type": "code",
      "source": [
        "sns.countplot(x='IsFraudulent', data=fraud_detection)"
      ],
      "metadata": {
        "colab": {
          "base_uri": "https://localhost:8080/",
          "height": 466
        },
        "id": "P4HbygGva6Xr",
        "outputId": "1141ef6d-62a5-488a-a444-c885741e1d0c"
      },
      "execution_count": null,
      "outputs": [
        {
          "output_type": "execute_result",
          "data": {
            "text/plain": [
              "<Axes: xlabel='IsFraudulent', ylabel='count'>"
            ]
          },
          "metadata": {},
          "execution_count": 5
        },
        {
          "output_type": "display_data",
          "data": {
            "text/plain": [
              "<Figure size 640x480 with 1 Axes>"
            ],
            "image/png": "[encoded data removed]"
          },
          "metadata": {}
        }
      ]
    },
    {
      "cell_type": "markdown",
      "source": [
        "**3. Cleaning the data**"
      ],
      "metadata": {
        "id": "9c7m5hbCZJHy"
      }
    },
    {
      "cell_type": "markdown",
      "source": [
        "*3.1. Dropping unique values*\n",
        "\n"
      ],
      "metadata": {
        "id": "ze3SiXxP-zgb"
      }
    },
    {
      "cell_type": "code",
      "source": [
        "fraud_detection.drop('TransactionID', axis=1, inplace=True)\n",
        "fraud_detection.drop('CustomerID', axis=1, inplace=True)\n",
        "fraud_detection.drop('CustomerLocation', axis=1, inplace=True)\n",
        "fraud_detection.drop('IPAddress', axis=1, inplace=True)\n",
        "fraud_detection.head()"
      ],
      "metadata": {
        "colab": {
          "base_uri": "https://localhost:8080/",
          "height": 206
        },
        "id": "tPaqE_Zk-2Ea",
        "outputId": "3442710b-12e1-426d-c779-cd82739a62c2"
      },
      "execution_count": null,
      "outputs": [
        {
          "output_type": "execute_result",
          "data": {
            "text/plain": [
              "  TransactionAmount   TransactionDate PaymentMethod ProductCategory Quantity  \\\n",
              "0             42.32  24/03/2024 23:42        PayPal     electronics        1   \n",
              "1            301.34  22/01/2024 00:53   credit card     electronics        3   \n",
              "2            340.32  22/01/2024 08:06    debit card    toys & games        5   \n",
              "3             95.77  16/01/2024 20:34   credit card     electronics        5   \n",
              "4             77.45  16/01/2024 15:47   credit card        clothing        5   \n",
              "\n",
              "  CustomerAge DeviceUsed IsFraudulent AccountAgeDays TransactionHour  \n",
              "0          40    desktop            0            282              23  \n",
              "1          35     tablet            0            223               0  \n",
              "2          29    desktop            0            360               8  \n",
              "3          45     mobile            0            325              20  \n",
              "4          42    desktop            0            116              15  "
            ],
            "text/html": [
              "\n",
              "  <div id=\"df-11e80874-d33f-4adc-bcf4-ae2971f12bf1\" class=\"colab-df-container\">\n",
              "    <div>\n",
              "<style scoped>\n",
              "    .dataframe tbody tr th:only-of-type {\n",
              "        vertical-align: middle;\n",
              "    }\n",
              "\n",
              "    .dataframe tbody tr th {\n",
              "        vertical-align: top;\n",
              "    }\n",
              "\n",
              "    .dataframe thead th {\n",
              "        text-align: right;\n",
              "    }\n",
              "</style>\n",
              "<table border=\"1\" class=\"dataframe\">\n",
              "  <thead>\n",
              "    <tr style=\"text-align: right;\">\n",
              "      <th></th>\n",
              "      <th>TransactionAmount</th>\n",
              "      <th>TransactionDate</th>\n",
              "      <th>PaymentMethod</th>\n",
              "      <th>ProductCategory</th>\n",
              "      <th>Quantity</th>\n",
              "      <th>CustomerAge</th>\n",
              "      <th>DeviceUsed</th>\n",
              "      <th>IsFraudulent</th>\n",
              "      <th>AccountAgeDays</th>\n",
              "      <th>TransactionHour</th>\n",
              "    </tr>\n",
              "  </thead>\n",
              "  <tbody>\n",
              "    <tr>\n",
              "      <th>0</th>\n",
              "      <td>42.32</td>\n",
              "      <td>24/03/2024 23:42</td>\n",
              "      <td>PayPal</td>\n",
              "      <td>electronics</td>\n",
              "      <td>1</td>\n",
              "      <td>40</td>\n",
              "      <td>desktop</td>\n",
              "      <td>0</td>\n",
              "      <td>282</td>\n",
              "      <td>23</td>\n",
              "    </tr>\n",
              "    <tr>\n",
              "      <th>1</th>\n",
              "      <td>301.34</td>\n",
              "      <td>22/01/2024 00:53</td>\n",
              "      <td>credit card</td>\n",
              "      <td>electronics</td>\n",
              "      <td>3</td>\n",
              "      <td>35</td>\n",
              "      <td>tablet</td>\n",
              "      <td>0</td>\n",
              "      <td>223</td>\n",
              "      <td>0</td>\n",
              "    </tr>\n",
              "    <tr>\n",
              "      <th>2</th>\n",
              "      <td>340.32</td>\n",
              "      <td>22/01/2024 08:06</td>\n",
              "      <td>debit card</td>\n",
              "      <td>toys &amp; games</td>\n",
              "      <td>5</td>\n",
              "      <td>29</td>\n",
              "      <td>desktop</td>\n",
              "      <td>0</td>\n",
              "      <td>360</td>\n",
              "      <td>8</td>\n",
              "    </tr>\n",
              "    <tr>\n",
              "      <th>3</th>\n",
              "      <td>95.77</td>\n",
              "      <td>16/01/2024 20:34</td>\n",
              "      <td>credit card</td>\n",
              "      <td>electronics</td>\n",
              "      <td>5</td>\n",
              "      <td>45</td>\n",
              "      <td>mobile</td>\n",
              "      <td>0</td>\n",
              "      <td>325</td>\n",
              "      <td>20</td>\n",
              "    </tr>\n",
              "    <tr>\n",
              "      <th>4</th>\n",
              "      <td>77.45</td>\n",
              "      <td>16/01/2024 15:47</td>\n",
              "      <td>credit card</td>\n",
              "      <td>clothing</td>\n",
              "      <td>5</td>\n",
              "      <td>42</td>\n",
              "      <td>desktop</td>\n",
              "      <td>0</td>\n",
              "      <td>116</td>\n",
              "      <td>15</td>\n",
              "    </tr>\n",
              "  </tbody>\n",
              "</table>\n",
              "</div>\n",
              "    <div class=\"colab-df-buttons\">\n",
              "\n",
              "  <div class=\"colab-df-container\">\n",
              "    <button class=\"colab-df-convert\" onclick=\"convertToInteractive('df-11e80874-d33f-4adc-bcf4-ae2971f12bf1')\"\n",
              "            title=\"Convert this dataframe to an interactive table.\"\n",
              "            style=\"display:none;\">\n",
              "\n",
              "  <svg xmlns=\"http://www.w3.org/2000/svg\" height=\"24px\" viewBox=\"0 -960 960 960\">\n",
              "    <path d=\"M120-120v-720h720v720H120Zm60-500h600v-160H180v160Zm220 220h160v-160H400v160Zm0 220h160v-160H400v160ZM180-400h160v-160H180v160Zm440 0h160v-160H620v160ZM180-180h160v-160H180v160Zm440 0h160v-160H620v160Z\"/>\n",
              "  </svg>\n",
              "    </button>\n",
              "\n",
              "  <style>\n",
              "    .colab-df-container {\n",
              "      display:flex;\n",
              "      gap: 12px;\n",
              "    }\n",
              "\n",
              "    .colab-df-convert {\n",
              "      background-color: #E8F0FE;\n",
              "      border: none;\n",
              "      border-radius: 50%;\n",
              "      cursor: pointer;\n",
              "      display: none;\n",
              "      fill: #1967D2;\n",
              "      height: 32px;\n",
              "      padding: 0 0 0 0;\n",
              "      width: 32px;\n",
              "    }\n",
              "\n",
              "    .colab-df-convert:hover {\n",
              "      background-color: #E2EBFA;\n",
              "      box-shadow: 0px 1px 2px rgba(60, 64, 67, 0.3), 0px 1px 3px 1px rgba(60, 64, 67, 0.15);\n",
              "      fill: #174EA6;\n",
              "    }\n",
              "\n",
              "    .colab-df-buttons div {\n",
              "      margin-bottom: 4px;\n",
              "    }\n",
              "\n",
              "    [theme=dark] .colab-df-convert {\n",
              "      background-color: #3B4455;\n",
              "      fill: #D2E3FC;\n",
              "    }\n",
              "\n",
              "    [theme=dark] .colab-df-convert:hover {\n",
              "      background-color: #434B5C;\n",
              "      box-shadow: 0px 1px 3px 1px rgba(0, 0, 0, 0.15);\n",
              "      filter: drop-shadow(0px 1px 2px rgba(0, 0, 0, 0.3));\n",
              "      fill: #FFFFFF;\n",
              "    }\n",
              "  </style>\n",
              "\n",
              "    <script>\n",
              "      const buttonEl =\n",
              "        document.querySelector('#df-11e80874-d33f-4adc-bcf4-ae2971f12bf1 button.colab-df-convert');\n",
              "      buttonEl.style.display =\n",
              "        google.colab.kernel.accessAllowed ? 'block' : 'none';\n",
              "\n",
              "      async function convertToInteractive(key) {\n",
              "        const element = document.querySelector('#df-11e80874-d33f-4adc-bcf4-ae2971f12bf1');\n",
              "        const dataTable =\n",
              "          await google.colab.kernel.invokeFunction('convertToInteractive',\n",
              "                                                    [key], {});\n",
              "        if (!dataTable) return;\n",
              "\n",
              "        const docLinkHtml = 'Like what you see? Visit the ' +\n",
              "          '<a target=\"_blank\" href=https://colab.research.google.com/notebooks/data_table.ipynb>data table notebook</a>'\n",
              "          + ' to learn more about interactive tables.';\n",
              "        element.innerHTML = '';\n",
              "        dataTable['output_type'] = 'display_data';\n",
              "        await google.colab.output.renderOutput(dataTable, element);\n",
              "        const docLink = document.createElement('div');\n",
              "        docLink.innerHTML = docLinkHtml;\n",
              "        element.appendChild(docLink);\n",
              "      }\n",
              "    </script>\n",
              "  </div>\n",
              "\n",
              "\n",
              "<div id=\"df-45eebdc5-2065-4ceb-8734-d74f3e5c58b9\">\n",
              "  <button class=\"colab-df-quickchart\" onclick=\"quickchart('df-45eebdc5-2065-4ceb-8734-d74f3e5c58b9')\"\n",
              "            title=\"Suggest charts\"\n",
              "            style=\"display:none;\">\n",
              "\n",
              "<svg xmlns=\"http://www.w3.org/2000/svg\" height=\"24px\"viewBox=\"0 0 24 24\"\n",
              "     width=\"24px\">\n",
              "    <g>\n",
              "        <path d=\"M19 3H5c-1.1 0-2 .9-2 2v14c0 1.1.9 2 2 2h14c1.1 0 2-.9 2-2V5c0-1.1-.9-2-2-2zM9 17H7v-7h2v7zm4 0h-2V7h2v10zm4 0h-2v-4h2v4z\"/>\n",
              "    </g>\n",
              "</svg>\n",
              "  </button>\n",
              "\n",
              "<style>\n",
              "  .colab-df-quickchart {\n",
              "      --bg-color: #E8F0FE;\n",
              "      --fill-color: #1967D2;\n",
              "      --hover-bg-color: #E2EBFA;\n",
              "      --hover-fill-color: #174EA6;\n",
              "      --disabled-fill-color: #AAA;\n",
              "      --disabled-bg-color: #DDD;\n",
              "  }\n",
              "\n",
              "  [theme=dark] .colab-df-quickchart {\n",
              "      --bg-color: #3B4455;\n",
              "      --fill-color: #D2E3FC;\n",
              "      --hover-bg-color: #434B5C;\n",
              "      --hover-fill-color: #FFFFFF;\n",
              "      --disabled-bg-color: #3B4455;\n",
              "      --disabled-fill-color: #666;\n",
              "  }\n",
              "\n",
              "  .colab-df-quickchart {\n",
              "    background-color: var(--bg-color);\n",
              "    border: none;\n",
              "    border-radius: 50%;\n",
              "    cursor: pointer;\n",
              "    display: none;\n",
              "    fill: var(--fill-color);\n",
              "    height: 32px;\n",
              "    padding: 0;\n",
              "    width: 32px;\n",
              "  }\n",
              "\n",
              "  .colab-df-quickchart:hover {\n",
              "    background-color: var(--hover-bg-color);\n",
              "    box-shadow: 0 1px 2px rgba(60, 64, 67, 0.3), 0 1px 3px 1px rgba(60, 64, 67, 0.15);\n",
              "    fill: var(--button-hover-fill-color);\n",
              "  }\n",
              "\n",
              "  .colab-df-quickchart-complete:disabled,\n",
              "  .colab-df-quickchart-complete:disabled:hover {\n",
              "    background-color: var(--disabled-bg-color);\n",
              "    fill: var(--disabled-fill-color);\n",
              "    box-shadow: none;\n",
              "  }\n",
              "\n",
              "  .colab-df-spinner {\n",
              "    border: 2px solid var(--fill-color);\n",
              "    border-color: transparent;\n",
              "    border-bottom-color: var(--fill-color);\n",
              "    animation:\n",
              "      spin 1s steps(1) infinite;\n",
              "  }\n",
              "\n",
              "  @keyframes spin {\n",
              "    0% {\n",
              "      border-color: transparent;\n",
              "      border-bottom-color: var(--fill-color);\n",
              "      border-left-color: var(--fill-color);\n",
              "    }\n",
              "    20% {\n",
              "      border-color: transparent;\n",
              "      border-left-color: var(--fill-color);\n",
              "      border-top-color: var(--fill-color);\n",
              "    }\n",
              "    30% {\n",
              "      border-color: transparent;\n",
              "      border-left-color: var(--fill-color);\n",
              "      border-top-color: var(--fill-color);\n",
              "      border-right-color: var(--fill-color);\n",
              "    }\n",
              "    40% {\n",
              "      border-color: transparent;\n",
              "      border-right-color: var(--fill-color);\n",
              "      border-top-color: var(--fill-color);\n",
              "    }\n",
              "    60% {\n",
              "      border-color: transparent;\n",
              "      border-right-color: var(--fill-color);\n",
              "    }\n",
              "    80% {\n",
              "      border-color: transparent;\n",
              "      border-right-color: var(--fill-color);\n",
              "      border-bottom-color: var(--fill-color);\n",
              "    }\n",
              "    90% {\n",
              "      border-color: transparent;\n",
              "      border-bottom-color: var(--fill-color);\n",
              "    }\n",
              "  }\n",
              "</style>\n",
              "\n",
              "  <script>\n",
              "    async function quickchart(key) {\n",
              "      const quickchartButtonEl =\n",
              "        document.querySelector('#' + key + ' button');\n",
              "      quickchartButtonEl.disabled = true;  // To prevent multiple clicks.\n",
              "      quickchartButtonEl.classList.add('colab-df-spinner');\n",
              "      try {\n",
              "        const charts = await google.colab.kernel.invokeFunction(\n",
              "            'suggestCharts', [key], {});\n",
              "      } catch (error) {\n",
              "        console.error('Error during call to suggestCharts:', error);\n",
              "      }\n",
              "      quickchartButtonEl.classList.remove('colab-df-spinner');\n",
              "      quickchartButtonEl.classList.add('colab-df-quickchart-complete');\n",
              "    }\n",
              "    (() => {\n",
              "      let quickchartButtonEl =\n",
              "        document.querySelector('#df-45eebdc5-2065-4ceb-8734-d74f3e5c58b9 button');\n",
              "      quickchartButtonEl.style.display =\n",
              "        google.colab.kernel.accessAllowed ? 'block' : 'none';\n",
              "    })();\n",
              "  </script>\n",
              "</div>\n",
              "    </div>\n",
              "  </div>\n"
            ],
            "application/vnd.google.colaboratory.intrinsic+json": {
              "type": "dataframe",
              "variable_name": "fraud_detection",
              "summary": "{\n  \"name\": \"fraud_detection\",\n  \"rows\": 23634,\n  \"fields\": [\n    {\n      \"column\": \"TransactionAmount\",\n      \"properties\": {\n        \"dtype\": \"string\",\n        \"num_unique_values\": 18372,\n        \"samples\": [\n          \"283.92\",\n          \"34.8\",\n          \"125.8\"\n        ],\n        \"semantic_type\": \"\",\n        \"description\": \"\"\n      }\n    },\n    {\n      \"column\": \"TransactionDate\",\n      \"properties\": {\n        \"dtype\": \"object\",\n        \"num_unique_values\": 21715,\n        \"samples\": [\n          \"10/03/2024 01:12\",\n          \"11/03/2024 15:13\",\n          \"06/01/2024 19:35\"\n        ],\n        \"semantic_type\": \"\",\n        \"description\": \"\"\n      }\n    },\n    {\n      \"column\": \"PaymentMethod\",\n      \"properties\": {\n        \"dtype\": \"category\",\n        \"num_unique_values\": 4,\n        \"samples\": [\n          \"credit card\",\n          \"bank transfer\",\n          \"PayPal\"\n        ],\n        \"semantic_type\": \"\",\n        \"description\": \"\"\n      }\n    },\n    {\n      \"column\": \"ProductCategory\",\n      \"properties\": {\n        \"dtype\": \"category\",\n        \"num_unique_values\": 5,\n        \"samples\": [\n          \"toys & games\",\n          \"health & beauty\",\n          \"clothing\"\n        ],\n        \"semantic_type\": \"\",\n        \"description\": \"\"\n      }\n    },\n    {\n      \"column\": \"Quantity\",\n      \"properties\": {\n        \"dtype\": \"category\",\n        \"num_unique_values\": 5,\n        \"samples\": [\n          \"3\",\n          \"2\",\n          \"5\"\n        ],\n        \"semantic_type\": \"\",\n        \"description\": \"\"\n      }\n    },\n    {\n      \"column\": \"CustomerAge\",\n      \"properties\": {\n        \"dtype\": \"category\",\n        \"num_unique_values\": 74,\n        \"samples\": [\n          \"42\",\n          \"63\",\n          \"48\"\n        ],\n        \"semantic_type\": \"\",\n        \"description\": \"\"\n      }\n    },\n    {\n      \"column\": \"DeviceUsed\",\n      \"properties\": {\n        \"dtype\": \"category\",\n        \"num_unique_values\": 3,\n        \"samples\": [\n          \"desktop\",\n          \"tablet\",\n          \"mobile\"\n        ],\n        \"semantic_type\": \"\",\n        \"description\": \"\"\n      }\n    },\n    {\n      \"column\": \"IsFraudulent\",\n      \"properties\": {\n        \"dtype\": \"category\",\n        \"num_unique_values\": 2,\n        \"samples\": [\n          \"1\",\n          \"0\"\n        ],\n        \"semantic_type\": \"\",\n        \"description\": \"\"\n      }\n    },\n    {\n      \"column\": \"AccountAgeDays\",\n      \"properties\": {\n        \"dtype\": \"category\",\n        \"num_unique_values\": 365,\n        \"samples\": [\n          \"24\",\n          \"61\"\n        ],\n        \"semantic_type\": \"\",\n        \"description\": \"\"\n      }\n    },\n    {\n      \"column\": \"TransactionHour\",\n      \"properties\": {\n        \"dtype\": \"category\",\n        \"num_unique_values\": 24,\n        \"samples\": [\n          \"12\",\n          \"21\"\n        ],\n        \"semantic_type\": \"\",\n        \"description\": \"\"\n      }\n    }\n  ]\n}"
            }
          },
          "metadata": {},
          "execution_count": 7
        }
      ]
    },
    {
      "cell_type": "markdown",
      "source": [
        "*3.2. Checking for null values*"
      ],
      "metadata": {
        "id": "1KWsCCi88mHC"
      }
    },
    {
      "cell_type": "code",
      "source": [
        "fraud_detection.isnull().sum()"
      ],
      "metadata": {
        "colab": {
          "base_uri": "https://localhost:8080/"
        },
        "id": "-NS-HQko7hpS",
        "outputId": "bb5e7b7d-4972-4f83-eade-dcc2f25d1316"
      },
      "execution_count": null,
      "outputs": [
        {
          "output_type": "execute_result",
          "data": {
            "text/plain": [
              "TransactionAmount    0\n",
              "TransactionDate      0\n",
              "PaymentMethod        0\n",
              "ProductCategory      0\n",
              "Quantity             0\n",
              "CustomerAge          0\n",
              "DeviceUsed           0\n",
              "IsFraudulent         0\n",
              "AccountAgeDays       0\n",
              "TransactionHour      0\n",
              "dtype: int64"
            ]
          },
          "metadata": {},
          "execution_count": 8
        }
      ]
    },
    {
      "cell_type": "markdown",
      "source": [
        "*3.3. Exploring attributes with named values*"
      ],
      "metadata": {
        "id": "ndVzlKFpbfvZ"
      }
    },
    {
      "cell_type": "code",
      "source": [
        "fraud_detection.PaymentMethod.value_counts()"
      ],
      "metadata": {
        "colab": {
          "base_uri": "https://localhost:8080/"
        },
        "id": "vR1TCu7g8CVi",
        "outputId": "c101ba25-4f10-4841-9b5e-c7fcbd85f7a1"
      },
      "execution_count": null,
      "outputs": [
        {
          "output_type": "execute_result",
          "data": {
            "text/plain": [
              "PaymentMethod\n",
              "debit card       5952\n",
              "credit card      5923\n",
              "PayPal           5899\n",
              "bank transfer    5860\n",
              "Name: count, dtype: int64"
            ]
          },
          "metadata": {},
          "execution_count": 9
        }
      ]
    },
    {
      "cell_type": "code",
      "source": [
        "fraud_detection.ProductCategory.value_counts()"
      ],
      "metadata": {
        "colab": {
          "base_uri": "https://localhost:8080/"
        },
        "id": "BQVYziWoGGHP",
        "outputId": "05d12d16-32e4-4703-8763-b007df7f799e"
      },
      "execution_count": null,
      "outputs": [
        {
          "output_type": "execute_result",
          "data": {
            "text/plain": [
              "ProductCategory\n",
              "home & garden      4786\n",
              "electronics        4748\n",
              "toys & games       4730\n",
              "clothing           4699\n",
              "health & beauty    4671\n",
              "Name: count, dtype: int64"
            ]
          },
          "metadata": {},
          "execution_count": 10
        }
      ]
    },
    {
      "cell_type": "code",
      "source": [
        "fraud_detection.DeviceUsed.value_counts()"
      ],
      "metadata": {
        "colab": {
          "base_uri": "https://localhost:8080/"
        },
        "id": "j_4H4D68GGz2",
        "outputId": "386883e1-9b64-412c-e7d6-21b5b069b215"
      },
      "execution_count": null,
      "outputs": [
        {
          "output_type": "execute_result",
          "data": {
            "text/plain": [
              "DeviceUsed\n",
              "desktop    7923\n",
              "mobile     7881\n",
              "tablet     7830\n",
              "Name: count, dtype: int64"
            ]
          },
          "metadata": {},
          "execution_count": 11
        }
      ]
    },
    {
      "cell_type": "markdown",
      "source": [
        "*3.4. Changing named attribute's values to numerical*"
      ],
      "metadata": {
        "id": "uYe5NthqGipQ"
      }
    },
    {
      "cell_type": "code",
      "source": [
        "fraud_detection[\"PaymentMethod\"] = fraud_detection[\"PaymentMethod\"].astype(str)\n",
        "fraud_detection[\"PaymentMethod\"] = fraud_detection[\"PaymentMethod\"].map({\"debit card\": 1, \"credit card\": 2, \"PayPal\": 3, \"bank transfer\": 4})\n",
        "\n",
        "fraud_detection[\"ProductCategory\"] = fraud_detection[\"ProductCategory\"].astype(str)\n",
        "fraud_detection[\"ProductCategory\"] = fraud_detection[\"ProductCategory\"].map({\"home & garden\": 1, \"electronics\": 2, \"toys & games\": 3, \"clothing\": 4, \"health & beauty\": 5})\n",
        "\n",
        "fraud_detection[\"DeviceUsed\"] = fraud_detection[\"DeviceUsed\"].astype(str)\n",
        "fraud_detection[\"DeviceUsed\"] = fraud_detection[\"DeviceUsed\"].map({\"desktop\": 1, \"mobile\": 2, \"tablet\": 3})"
      ],
      "metadata": {
        "id": "Ak6gcAYbGrBu"
      },
      "execution_count": null,
      "outputs": []
    },
    {
      "cell_type": "markdown",
      "source": [
        "*3.5. Converting purchase dates to months*: 1 meaning January, 2 - February, etc.\n"
      ],
      "metadata": {
        "id": "7Y9XXyawL9dt"
      }
    },
    {
      "cell_type": "code",
      "source": [
        "fraud_detection['TransactionMonth'] = pd.to_datetime(fraud_detection['TransactionDate'].str[:10], format='%d/%m/%Y').dt.month\n",
        "\n",
        "del fraud_detection['TransactionDate']\n",
        "\n",
        "fraud_detection.head()"
      ],
      "metadata": {
        "colab": {
          "base_uri": "https://localhost:8080/",
          "height": 206
        },
        "id": "uTdri22bEogA",
        "outputId": "f5574108-c01b-49d5-908d-efdb384e02df"
      },
      "execution_count": null,
      "outputs": [
        {
          "output_type": "execute_result",
          "data": {
            "text/plain": [
              "  TransactionAmount  PaymentMethod  ProductCategory Quantity CustomerAge  \\\n",
              "0             42.32              3                2        1          40   \n",
              "1            301.34              2                2        3          35   \n",
              "2            340.32              1                3        5          29   \n",
              "3             95.77              2                2        5          45   \n",
              "4             77.45              2                4        5          42   \n",
              "\n",
              "   DeviceUsed IsFraudulent AccountAgeDays TransactionHour  TransactionMonth  \n",
              "0           1            0            282              23                 3  \n",
              "1           3            0            223               0                 1  \n",
              "2           1            0            360               8                 1  \n",
              "3           2            0            325              20                 1  \n",
              "4           1            0            116              15                 1  "
            ],
            "text/html": [
              "\n",
              "  <div id=\"df-87ba8b53-cbf3-4323-b3d6-f27d79bcf75e\" class=\"colab-df-container\">\n",
              "    <div>\n",
              "<style scoped>\n",
              "    .dataframe tbody tr th:only-of-type {\n",
              "        vertical-align: middle;\n",
              "    }\n",
              "\n",
              "    .dataframe tbody tr th {\n",
              "        vertical-align: top;\n",
              "    }\n",
              "\n",
              "    .dataframe thead th {\n",
              "        text-align: right;\n",
              "    }\n",
              "</style>\n",
              "<table border=\"1\" class=\"dataframe\">\n",
              "  <thead>\n",
              "    <tr style=\"text-align: right;\">\n",
              "      <th></th>\n",
              "      <th>TransactionAmount</th>\n",
              "      <th>PaymentMethod</th>\n",
              "      <th>ProductCategory</th>\n",
              "      <th>Quantity</th>\n",
              "      <th>CustomerAge</th>\n",
              "      <th>DeviceUsed</th>\n",
              "      <th>IsFraudulent</th>\n",
              "      <th>AccountAgeDays</th>\n",
              "      <th>TransactionHour</th>\n",
              "      <th>TransactionMonth</th>\n",
              "    </tr>\n",
              "  </thead>\n",
              "  <tbody>\n",
              "    <tr>\n",
              "      <th>0</th>\n",
              "      <td>42.32</td>\n",
              "      <td>3</td>\n",
              "      <td>2</td>\n",
              "      <td>1</td>\n",
              "      <td>40</td>\n",
              "      <td>1</td>\n",
              "      <td>0</td>\n",
              "      <td>282</td>\n",
              "      <td>23</td>\n",
              "      <td>3</td>\n",
              "    </tr>\n",
              "    <tr>\n",
              "      <th>1</th>\n",
              "      <td>301.34</td>\n",
              "      <td>2</td>\n",
              "      <td>2</td>\n",
              "      <td>3</td>\n",
              "      <td>35</td>\n",
              "      <td>3</td>\n",
              "      <td>0</td>\n",
              "      <td>223</td>\n",
              "      <td>0</td>\n",
              "      <td>1</td>\n",
              "    </tr>\n",
              "    <tr>\n",
              "      <th>2</th>\n",
              "      <td>340.32</td>\n",
              "      <td>1</td>\n",
              "      <td>3</td>\n",
              "      <td>5</td>\n",
              "      <td>29</td>\n",
              "      <td>1</td>\n",
              "      <td>0</td>\n",
              "      <td>360</td>\n",
              "      <td>8</td>\n",
              "      <td>1</td>\n",
              "    </tr>\n",
              "    <tr>\n",
              "      <th>3</th>\n",
              "      <td>95.77</td>\n",
              "      <td>2</td>\n",
              "      <td>2</td>\n",
              "      <td>5</td>\n",
              "      <td>45</td>\n",
              "      <td>2</td>\n",
              "      <td>0</td>\n",
              "      <td>325</td>\n",
              "      <td>20</td>\n",
              "      <td>1</td>\n",
              "    </tr>\n",
              "    <tr>\n",
              "      <th>4</th>\n",
              "      <td>77.45</td>\n",
              "      <td>2</td>\n",
              "      <td>4</td>\n",
              "      <td>5</td>\n",
              "      <td>42</td>\n",
              "      <td>1</td>\n",
              "      <td>0</td>\n",
              "      <td>116</td>\n",
              "      <td>15</td>\n",
              "      <td>1</td>\n",
              "    </tr>\n",
              "  </tbody>\n",
              "</table>\n",
              "</div>\n",
              "    <div class=\"colab-df-buttons\">\n",
              "\n",
              "  <div class=\"colab-df-container\">\n",
              "    <button class=\"colab-df-convert\" onclick=\"convertToInteractive('df-87ba8b53-cbf3-4323-b3d6-f27d79bcf75e')\"\n",
              "            title=\"Convert this dataframe to an interactive table.\"\n",
              "            style=\"display:none;\">\n",
              "\n",
              "  <svg xmlns=\"http://www.w3.org/2000/svg\" height=\"24px\" viewBox=\"0 -960 960 960\">\n",
              "    <path d=\"M120-120v-720h720v720H120Zm60-500h600v-160H180v160Zm220 220h160v-160H400v160Zm0 220h160v-160H400v160ZM180-400h160v-160H180v160Zm440 0h160v-160H620v160ZM180-180h160v-160H180v160Zm440 0h160v-160H620v160Z\"/>\n",
              "  </svg>\n",
              "    </button>\n",
              "\n",
              "  <style>\n",
              "    .colab-df-container {\n",
              "      display:flex;\n",
              "      gap: 12px;\n",
              "    }\n",
              "\n",
              "    .colab-df-convert {\n",
              "      background-color: #E8F0FE;\n",
              "      border: none;\n",
              "      border-radius: 50%;\n",
              "      cursor: pointer;\n",
              "      display: none;\n",
              "      fill: #1967D2;\n",
              "      height: 32px;\n",
              "      padding: 0 0 0 0;\n",
              "      width: 32px;\n",
              "    }\n",
              "\n",
              "    .colab-df-convert:hover {\n",
              "      background-color: #E2EBFA;\n",
              "      box-shadow: 0px 1px 2px rgba(60, 64, 67, 0.3), 0px 1px 3px 1px rgba(60, 64, 67, 0.15);\n",
              "      fill: #174EA6;\n",
              "    }\n",
              "\n",
              "    .colab-df-buttons div {\n",
              "      margin-bottom: 4px;\n",
              "    }\n",
              "\n",
              "    [theme=dark] .colab-df-convert {\n",
              "      background-color: #3B4455;\n",
              "      fill: #D2E3FC;\n",
              "    }\n",
              "\n",
              "    [theme=dark] .colab-df-convert:hover {\n",
              "      background-color: #434B5C;\n",
              "      box-shadow: 0px 1px 3px 1px rgba(0, 0, 0, 0.15);\n",
              "      filter: drop-shadow(0px 1px 2px rgba(0, 0, 0, 0.3));\n",
              "      fill: #FFFFFF;\n",
              "    }\n",
              "  </style>\n",
              "\n",
              "    <script>\n",
              "      const buttonEl =\n",
              "        document.querySelector('#df-87ba8b53-cbf3-4323-b3d6-f27d79bcf75e button.colab-df-convert');\n",
              "      buttonEl.style.display =\n",
              "        google.colab.kernel.accessAllowed ? 'block' : 'none';\n",
              "\n",
              "      async function convertToInteractive(key) {\n",
              "        const element = document.querySelector('#df-87ba8b53-cbf3-4323-b3d6-f27d79bcf75e');\n",
              "        const dataTable =\n",
              "          await google.colab.kernel.invokeFunction('convertToInteractive',\n",
              "                                                    [key], {});\n",
              "        if (!dataTable) return;\n",
              "\n",
              "        const docLinkHtml = 'Like what you see? Visit the ' +\n",
              "          '<a target=\"_blank\" href=https://colab.research.google.com/notebooks/data_table.ipynb>data table notebook</a>'\n",
              "          + ' to learn more about interactive tables.';\n",
              "        element.innerHTML = '';\n",
              "        dataTable['output_type'] = 'display_data';\n",
              "        await google.colab.output.renderOutput(dataTable, element);\n",
              "        const docLink = document.createElement('div');\n",
              "        docLink.innerHTML = docLinkHtml;\n",
              "        element.appendChild(docLink);\n",
              "      }\n",
              "    </script>\n",
              "  </div>\n",
              "\n",
              "\n",
              "<div id=\"df-b60e9dd6-9979-47a0-988a-734e73ad9085\">\n",
              "  <button class=\"colab-df-quickchart\" onclick=\"quickchart('df-b60e9dd6-9979-47a0-988a-734e73ad9085')\"\n",
              "            title=\"Suggest charts\"\n",
              "            style=\"display:none;\">\n",
              "\n",
              "<svg xmlns=\"http://www.w3.org/2000/svg\" height=\"24px\"viewBox=\"0 0 24 24\"\n",
              "     width=\"24px\">\n",
              "    <g>\n",
              "        <path d=\"M19 3H5c-1.1 0-2 .9-2 2v14c0 1.1.9 2 2 2h14c1.1 0 2-.9 2-2V5c0-1.1-.9-2-2-2zM9 17H7v-7h2v7zm4 0h-2V7h2v10zm4 0h-2v-4h2v4z\"/>\n",
              "    </g>\n",
              "</svg>\n",
              "  </button>\n",
              "\n",
              "<style>\n",
              "  .colab-df-quickchart {\n",
              "      --bg-color: #E8F0FE;\n",
              "      --fill-color: #1967D2;\n",
              "      --hover-bg-color: #E2EBFA;\n",
              "      --hover-fill-color: #174EA6;\n",
              "      --disabled-fill-color: #AAA;\n",
              "      --disabled-bg-color: #DDD;\n",
              "  }\n",
              "\n",
              "  [theme=dark] .colab-df-quickchart {\n",
              "      --bg-color: #3B4455;\n",
              "      --fill-color: #D2E3FC;\n",
              "      --hover-bg-color: #434B5C;\n",
              "      --hover-fill-color: #FFFFFF;\n",
              "      --disabled-bg-color: #3B4455;\n",
              "      --disabled-fill-color: #666;\n",
              "  }\n",
              "\n",
              "  .colab-df-quickchart {\n",
              "    background-color: var(--bg-color);\n",
              "    border: none;\n",
              "    border-radius: 50%;\n",
              "    cursor: pointer;\n",
              "    display: none;\n",
              "    fill: var(--fill-color);\n",
              "    height: 32px;\n",
              "    padding: 0;\n",
              "    width: 32px;\n",
              "  }\n",
              "\n",
              "  .colab-df-quickchart:hover {\n",
              "    background-color: var(--hover-bg-color);\n",
              "    box-shadow: 0 1px 2px rgba(60, 64, 67, 0.3), 0 1px 3px 1px rgba(60, 64, 67, 0.15);\n",
              "    fill: var(--button-hover-fill-color);\n",
              "  }\n",
              "\n",
              "  .colab-df-quickchart-complete:disabled,\n",
              "  .colab-df-quickchart-complete:disabled:hover {\n",
              "    background-color: var(--disabled-bg-color);\n",
              "    fill: var(--disabled-fill-color);\n",
              "    box-shadow: none;\n",
              "  }\n",
              "\n",
              "  .colab-df-spinner {\n",
              "    border: 2px solid var(--fill-color);\n",
              "    border-color: transparent;\n",
              "    border-bottom-color: var(--fill-color);\n",
              "    animation:\n",
              "      spin 1s steps(1) infinite;\n",
              "  }\n",
              "\n",
              "  @keyframes spin {\n",
              "    0% {\n",
              "      border-color: transparent;\n",
              "      border-bottom-color: var(--fill-color);\n",
              "      border-left-color: var(--fill-color);\n",
              "    }\n",
              "    20% {\n",
              "      border-color: transparent;\n",
              "      border-left-color: var(--fill-color);\n",
              "      border-top-color: var(--fill-color);\n",
              "    }\n",
              "    30% {\n",
              "      border-color: transparent;\n",
              "      border-left-color: var(--fill-color);\n",
              "      border-top-color: var(--fill-color);\n",
              "      border-right-color: var(--fill-color);\n",
              "    }\n",
              "    40% {\n",
              "      border-color: transparent;\n",
              "      border-right-color: var(--fill-color);\n",
              "      border-top-color: var(--fill-color);\n",
              "    }\n",
              "    60% {\n",
              "      border-color: transparent;\n",
              "      border-right-color: var(--fill-color);\n",
              "    }\n",
              "    80% {\n",
              "      border-color: transparent;\n",
              "      border-right-color: var(--fill-color);\n",
              "      border-bottom-color: var(--fill-color);\n",
              "    }\n",
              "    90% {\n",
              "      border-color: transparent;\n",
              "      border-bottom-color: var(--fill-color);\n",
              "    }\n",
              "  }\n",
              "</style>\n",
              "\n",
              "  <script>\n",
              "    async function quickchart(key) {\n",
              "      const quickchartButtonEl =\n",
              "        document.querySelector('#' + key + ' button');\n",
              "      quickchartButtonEl.disabled = true;  // To prevent multiple clicks.\n",
              "      quickchartButtonEl.classList.add('colab-df-spinner');\n",
              "      try {\n",
              "        const charts = await google.colab.kernel.invokeFunction(\n",
              "            'suggestCharts', [key], {});\n",
              "      } catch (error) {\n",
              "        console.error('Error during call to suggestCharts:', error);\n",
              "      }\n",
              "      quickchartButtonEl.classList.remove('colab-df-spinner');\n",
              "      quickchartButtonEl.classList.add('colab-df-quickchart-complete');\n",
              "    }\n",
              "    (() => {\n",
              "      let quickchartButtonEl =\n",
              "        document.querySelector('#df-b60e9dd6-9979-47a0-988a-734e73ad9085 button');\n",
              "      quickchartButtonEl.style.display =\n",
              "        google.colab.kernel.accessAllowed ? 'block' : 'none';\n",
              "    })();\n",
              "  </script>\n",
              "</div>\n",
              "    </div>\n",
              "  </div>\n"
            ],
            "application/vnd.google.colaboratory.intrinsic+json": {
              "type": "dataframe",
              "variable_name": "fraud_detection",
              "summary": "{\n  \"name\": \"fraud_detection\",\n  \"rows\": 23634,\n  \"fields\": [\n    {\n      \"column\": \"TransactionAmount\",\n      \"properties\": {\n        \"dtype\": \"string\",\n        \"num_unique_values\": 18372,\n        \"samples\": [\n          \"283.92\",\n          \"34.8\",\n          \"125.8\"\n        ],\n        \"semantic_type\": \"\",\n        \"description\": \"\"\n      }\n    },\n    {\n      \"column\": \"PaymentMethod\",\n      \"properties\": {\n        \"dtype\": \"number\",\n        \"std\": 1,\n        \"min\": 1,\n        \"max\": 4,\n        \"num_unique_values\": 4,\n        \"samples\": [\n          2,\n          4,\n          3\n        ],\n        \"semantic_type\": \"\",\n        \"description\": \"\"\n      }\n    },\n    {\n      \"column\": \"ProductCategory\",\n      \"properties\": {\n        \"dtype\": \"number\",\n        \"std\": 1,\n        \"min\": 1,\n        \"max\": 5,\n        \"num_unique_values\": 5,\n        \"samples\": [\n          3,\n          5,\n          4\n        ],\n        \"semantic_type\": \"\",\n        \"description\": \"\"\n      }\n    },\n    {\n      \"column\": \"Quantity\",\n      \"properties\": {\n        \"dtype\": \"category\",\n        \"num_unique_values\": 5,\n        \"samples\": [\n          \"3\",\n          \"2\",\n          \"5\"\n        ],\n        \"semantic_type\": \"\",\n        \"description\": \"\"\n      }\n    },\n    {\n      \"column\": \"CustomerAge\",\n      \"properties\": {\n        \"dtype\": \"category\",\n        \"num_unique_values\": 74,\n        \"samples\": [\n          \"42\",\n          \"63\",\n          \"48\"\n        ],\n        \"semantic_type\": \"\",\n        \"description\": \"\"\n      }\n    },\n    {\n      \"column\": \"DeviceUsed\",\n      \"properties\": {\n        \"dtype\": \"number\",\n        \"std\": 0,\n        \"min\": 1,\n        \"max\": 3,\n        \"num_unique_values\": 3,\n        \"samples\": [\n          1,\n          3,\n          2\n        ],\n        \"semantic_type\": \"\",\n        \"description\": \"\"\n      }\n    },\n    {\n      \"column\": \"IsFraudulent\",\n      \"properties\": {\n        \"dtype\": \"category\",\n        \"num_unique_values\": 2,\n        \"samples\": [\n          \"1\",\n          \"0\"\n        ],\n        \"semantic_type\": \"\",\n        \"description\": \"\"\n      }\n    },\n    {\n      \"column\": \"AccountAgeDays\",\n      \"properties\": {\n        \"dtype\": \"category\",\n        \"num_unique_values\": 365,\n        \"samples\": [\n          \"24\",\n          \"61\"\n        ],\n        \"semantic_type\": \"\",\n        \"description\": \"\"\n      }\n    },\n    {\n      \"column\": \"TransactionHour\",\n      \"properties\": {\n        \"dtype\": \"category\",\n        \"num_unique_values\": 24,\n        \"samples\": [\n          \"12\",\n          \"21\"\n        ],\n        \"semantic_type\": \"\",\n        \"description\": \"\"\n      }\n    },\n    {\n      \"column\": \"TransactionMonth\",\n      \"properties\": {\n        \"dtype\": \"int32\",\n        \"num_unique_values\": 4,\n        \"samples\": [\n          1,\n          4\n        ],\n        \"semantic_type\": \"\",\n        \"description\": \"\"\n      }\n    }\n  ]\n}"
            }
          },
          "metadata": {},
          "execution_count": 13
        }
      ]
    },
    {
      "cell_type": "markdown",
      "source": [
        "*3.6. Checking for correlation*"
      ],
      "metadata": {
        "id": "II_WnPee-LGK"
      }
    },
    {
      "cell_type": "code",
      "source": [
        "#handling the odd singular -2 value in the CustomerAge column\n",
        "fraud_detection['CustomerAge'] = pd.to_numeric(fraud_detection['CustomerAge'], errors='coerce')\n",
        "fraud_detection['CustomerAge'].replace({'-2': np.nan, 'abc': np.nan}, inplace=True)\n",
        "fraud_detection.dropna(subset=['CustomerAge'], inplace=True)\n",
        "\n",
        "correlation = fraud_detection.corr()\n",
        "print(correlation[\"IsFraudulent\"].sort_values(ascending=False))"
      ],
      "metadata": {
        "colab": {
          "base_uri": "https://localhost:8080/"
        },
        "id": "SZeh6Zt1-NKS",
        "outputId": "9e3a422b-b256-401d-b296-540c5beff7ca"
      },
      "execution_count": null,
      "outputs": [
        {
          "output_type": "stream",
          "name": "stdout",
          "text": [
            "IsFraudulent         1.000000\n",
            "TransactionAmount    0.275458\n",
            "PaymentMethod        0.012613\n",
            "CustomerAge          0.004784\n",
            "ProductCategory      0.002369\n",
            "DeviceUsed          -0.003334\n",
            "TransactionMonth    -0.004162\n",
            "Quantity            -0.005340\n",
            "TransactionHour     -0.122222\n",
            "AccountAgeDays      -0.142461\n",
            "Name: IsFraudulent, dtype: float64\n"
          ]
        }
      ]
    },
    {
      "cell_type": "markdown",
      "source": [
        "**4. Creating the logistic regression model**"
      ],
      "metadata": {
        "id": "al86E9DgRyA8"
      }
    },
    {
      "cell_type": "code",
      "source": [
        "x = fraud_detection.drop(columns='IsFraudulent', axis=1)\n",
        "y = fraud_detection['IsFraudulent'].values"
      ],
      "metadata": {
        "id": "x2OiE8IzPljU"
      },
      "execution_count": null,
      "outputs": []
    },
    {
      "cell_type": "code",
      "source": [
        "x_train, x_test, y_train, y_test = train_test_split(x, y, test_size=0.2, stratify=y, random_state=10)\n",
        "\n",
        "x.shape, x_train.shape, x_test.shape"
      ],
      "metadata": {
        "colab": {
          "base_uri": "https://localhost:8080/"
        },
        "id": "I2Bo3K1xSUK0",
        "outputId": "855344f1-7d9c-462e-c97b-95fbace808a6"
      },
      "execution_count": null,
      "outputs": [
        {
          "output_type": "execute_result",
          "data": {
            "text/plain": [
              "((23633, 9), (18906, 9), (4727, 9))"
            ]
          },
          "metadata": {},
          "execution_count": 17
        }
      ]
    },
    {
      "cell_type": "code",
      "source": [
        "model = LogisticRegression(max_iter=1000)\n",
        "model.fit(x_train, y_train)"
      ],
      "metadata": {
        "colab": {
          "base_uri": "https://localhost:8080/",
          "height": 74
        },
        "id": "kSRibPEMSYQ7",
        "outputId": "77481dc0-3695-43cf-d674-0974cff9caf3"
      },
      "execution_count": null,
      "outputs": [
        {
          "output_type": "execute_result",
          "data": {
            "text/plain": [
              "LogisticRegression(max_iter=1000)"
            ],
            "text/html": [
              "<style>#sk-container-id-1 {color: black;background-color: white;}#sk-container-id-1 pre{padding: 0;}#sk-container-id-1 div.sk-toggleable {background-color: white;}#sk-container-id-1 label.sk-toggleable__label {cursor: pointer;display: block;width: 100%;margin-bottom: 0;padding: 0.3em;box-sizing: border-box;text-align: center;}#sk-container-id-1 label.sk-toggleable__label-arrow:before {content: \"▸\";float: left;margin-right: 0.25em;color: #696969;}#sk-container-id-1 label.sk-toggleable__label-arrow:hover:before {color: black;}#sk-container-id-1 div.sk-estimator:hover label.sk-toggleable__label-arrow:before {color: black;}#sk-container-id-1 div.sk-toggleable__content {max-height: 0;max-width: 0;overflow: hidden;text-align: left;background-color: #f0f8ff;}#sk-container-id-1 div.sk-toggleable__content pre {margin: 0.2em;color: black;border-radius: 0.25em;background-color: #f0f8ff;}#sk-container-id-1 input.sk-toggleable__control:checked~div.sk-toggleable__content {max-height: 200px;max-width: 100%;overflow: auto;}#sk-container-id-1 input.sk-toggleable__control:checked~label.sk-toggleable__label-arrow:before {content: \"▾\";}#sk-container-id-1 div.sk-estimator input.sk-toggleable__control:checked~label.sk-toggleable__label {background-color: #d4ebff;}#sk-container-id-1 div.sk-label input.sk-toggleable__control:checked~label.sk-toggleable__label {background-color: #d4ebff;}#sk-container-id-1 input.sk-hidden--visually {border: 0;clip: rect(1px 1px 1px 1px);clip: rect(1px, 1px, 1px, 1px);height: 1px;margin: -1px;overflow: hidden;padding: 0;position: absolute;width: 1px;}#sk-container-id-1 div.sk-estimator {font-family: monospace;background-color: #f0f8ff;border: 1px dotted black;border-radius: 0.25em;box-sizing: border-box;margin-bottom: 0.5em;}#sk-container-id-1 div.sk-estimator:hover {background-color: #d4ebff;}#sk-container-id-1 div.sk-parallel-item::after {content: \"\";width: 100%;border-bottom: 1px solid gray;flex-grow: 1;}#sk-container-id-1 div.sk-label:hover label.sk-toggleable__label {background-color: #d4ebff;}#sk-container-id-1 div.sk-serial::before {content: \"\";position: absolute;border-left: 1px solid gray;box-sizing: border-box;top: 0;bottom: 0;left: 50%;z-index: 0;}#sk-container-id-1 div.sk-serial {display: flex;flex-direction: column;align-items: center;background-color: white;padding-right: 0.2em;padding-left: 0.2em;position: relative;}#sk-container-id-1 div.sk-item {position: relative;z-index: 1;}#sk-container-id-1 div.sk-parallel {display: flex;align-items: stretch;justify-content: center;background-color: white;position: relative;}#sk-container-id-1 div.sk-item::before, #sk-container-id-1 div.sk-parallel-item::before {content: \"\";position: absolute;border-left: 1px solid gray;box-sizing: border-box;top: 0;bottom: 0;left: 50%;z-index: -1;}#sk-container-id-1 div.sk-parallel-item {display: flex;flex-direction: column;z-index: 1;position: relative;background-color: white;}#sk-container-id-1 div.sk-parallel-item:first-child::after {align-self: flex-end;width: 50%;}#sk-container-id-1 div.sk-parallel-item:last-child::after {align-self: flex-start;width: 50%;}#sk-container-id-1 div.sk-parallel-item:only-child::after {width: 0;}#sk-container-id-1 div.sk-dashed-wrapped {border: 1px dashed gray;margin: 0 0.4em 0.5em 0.4em;box-sizing: border-box;padding-bottom: 0.4em;background-color: white;}#sk-container-id-1 div.sk-label label {font-family: monospace;font-weight: bold;display: inline-block;line-height: 1.2em;}#sk-container-id-1 div.sk-label-container {text-align: center;}#sk-container-id-1 div.sk-container {/* jupyter's `normalize.less` sets `[hidden] { display: none; }` but bootstrap.min.css set `[hidden] { display: none !important; }` so we also need the `!important` here to be able to override the default hidden behavior on the sphinx rendered scikit-learn.org. See: https://github.com/scikit-learn/scikit-learn/issues/21755 */display: inline-block !important;position: relative;}#sk-container-id-1 div.sk-text-repr-fallback {display: none;}</style><div id=\"sk-container-id-1\" class=\"sk-top-container\"><div class=\"sk-text-repr-fallback\"><pre>LogisticRegression(max_iter=1000)</pre><b>In a Jupyter environment, please rerun this cell to show the HTML representation or trust the notebook. <br />On GitHub, the HTML representation is unable to render, please try loading this page with nbviewer.org.</b></div><div class=\"sk-container\" hidden><div class=\"sk-item\"><div class=\"sk-estimator sk-toggleable\"><input class=\"sk-toggleable__control sk-hidden--visually\" id=\"sk-estimator-id-1\" type=\"checkbox\" checked><label for=\"sk-estimator-id-1\" class=\"sk-toggleable__label sk-toggleable__label-arrow\">LogisticRegression</label><div class=\"sk-toggleable__content\"><pre>LogisticRegression(max_iter=1000)</pre></div></div></div></div></div>"
            ]
          },
          "metadata": {},
          "execution_count": 18
        }
      ]
    },
    {
      "cell_type": "markdown",
      "source": [
        "*4.1. Using the training dataset*"
      ],
      "metadata": {
        "id": "hpgep7eiZxlT"
      }
    },
    {
      "cell_type": "code",
      "source": [
        "train_prediction = model.predict(x_train)\n",
        "print(\"Accuracy Score:\", accuracy_score(y_train, train_prediction))\n",
        "print(\"Precision Score:\", precision_score(y_train, train_prediction, pos_label='1'))\n",
        "print(\"Recall Score:\", recall_score(y_train, train_prediction, pos_label='1'))\n",
        "print(\"F1 score:\", f1_score(y_train, train_prediction, pos_label='1'))"
      ],
      "metadata": {
        "colab": {
          "base_uri": "https://localhost:8080/"
        },
        "id": "R2Apk13tTMZT",
        "outputId": "0fe5edc7-b057-45ab-927e-ae3f6dae6237"
      },
      "execution_count": null,
      "outputs": [
        {
          "output_type": "stream",
          "name": "stdout",
          "text": [
            "Accuracy Score: 0.9540357558447053\n",
            "Precision Score: 0.8562091503267973\n",
            "Recall Score: 0.13394683026584867\n",
            "F1 score: 0.23165340406719717\n"
          ]
        }
      ]
    },
    {
      "cell_type": "code",
      "source": [
        "confusion_matrix_train = confusion_matrix(y_train, train_prediction)"
      ],
      "metadata": {
        "id": "todkN9tUlSnF"
      },
      "execution_count": null,
      "outputs": []
    },
    {
      "cell_type": "code",
      "source": [
        "plt.figure(figsize=(5,5))\n",
        "sns.heatmap(confusion_matrix_train, annot=True,\n",
        "            fmt=\".0f\",\n",
        "            linewidths=.5,\n",
        "            square=True,\n",
        "            cmap='Blues');\n",
        "plt.ylabel('Actual Label', fontsize = 10);\n",
        "plt.xlabel('Predicted Label', fontsize = 10);\n",
        "plt.tick_params(labelsize = 10)"
      ],
      "metadata": {
        "colab": {
          "base_uri": "https://localhost:8080/",
          "height": 427
        },
        "id": "5DWBgeq8libl",
        "outputId": "35fa0717-c4a8-4395-e5c9-61e053eaa769"
      },
      "execution_count": null,
      "outputs": [
        {
          "output_type": "display_data",
          "data": {
            "text/plain": [
              "<Figure size 500x500 with 2 Axes>"
            ],
            "image/png": "[encoded data removed]"
          },
          "metadata": {}
        }
      ]
    },
    {
      "cell_type": "code",
      "source": [
        "y_pred_probs_train = model.predict_proba(x_train)[:,1]\n",
        "y_pred_probs_train[0]\n",
        "\n",
        "fpr_train, tpr_train, thresholds_train = roc_curve(y_train, y_pred_probs_train, pos_label='1')\n",
        "\n",
        "plt.plot([0,1], [0,1], '--')\n",
        "plt.plot(fpr_train, tpr_train)\n",
        "plt.xlabel(\"False Positive Rate\")\n",
        "plt.ylabel(\"True Positive Rate\")\n",
        "plt.title('Logistic Regression ROC Curve')\n",
        "plt.show()"
      ],
      "metadata": {
        "colab": {
          "base_uri": "https://localhost:8080/",
          "height": 472
        },
        "id": "FxnhUyt2XESi",
        "outputId": "a04c08b1-7636-47f2-b1be-495acc38ae48"
      },
      "execution_count": null,
      "outputs": [
        {
          "output_type": "display_data",
          "data": {
            "text/plain": [
              "<Figure size 640x480 with 1 Axes>"
            ],
            "image/png": "[encoded data removed]"
          },
          "metadata": {}
        }
      ]
    },
    {
      "cell_type": "markdown",
      "source": [
        "*4.2. Using the testing dataset*"
      ],
      "metadata": {
        "id": "CqDGnDBSZ4vK"
      }
    },
    {
      "cell_type": "code",
      "source": [
        "#using the testing dataset\n",
        "\n",
        "test_prediction = model.predict(x_test)\n",
        "print(\"Accuracy Score:\", accuracy_score(y_test, test_prediction))\n",
        "print(\"Precision Score:\", precision_score(y_test, test_prediction, pos_label='1'))\n",
        "print(\"Recall Score:\", recall_score(y_test, test_prediction, pos_label='1'))\n",
        "print(\"F1 score:\", f1_score(y_test, test_prediction, pos_label='1'))"
      ],
      "metadata": {
        "colab": {
          "base_uri": "https://localhost:8080/"
        },
        "id": "L1BUL_vvUJwC",
        "outputId": "e242732d-ab3d-4122-8bd5-881484a12c47"
      },
      "execution_count": null,
      "outputs": [
        {
          "output_type": "stream",
          "name": "stdout",
          "text": [
            "Accuracy Score: 0.9513433467315422\n",
            "Precision Score: 0.75\n",
            "Recall Score: 0.0860655737704918\n",
            "F1 score: 0.15441176470588236\n"
          ]
        }
      ]
    },
    {
      "cell_type": "code",
      "source": [
        "confusion_matrix_test = confusion_matrix(y_test, test_prediction)"
      ],
      "metadata": {
        "id": "vANeRm6jnnnU"
      },
      "execution_count": null,
      "outputs": []
    },
    {
      "cell_type": "code",
      "source": [
        "plt.figure(figsize=(5,5))\n",
        "sns.heatmap(confusion_matrix_test, annot=True,\n",
        "            fmt=\".0f\",\n",
        "            linewidths=.5,\n",
        "            square=True,\n",
        "            cmap='Blues');\n",
        "plt.ylabel('Actual Label', fontsize = 10);\n",
        "plt.xlabel('Predicted Label', fontsize = 10);\n",
        "plt.tick_params(labelsize = 10)"
      ],
      "metadata": {
        "colab": {
          "base_uri": "https://localhost:8080/",
          "height": 427
        },
        "id": "9JgZJAw8nuTM",
        "outputId": "2899cce8-f334-428b-89a2-14e0fd7553c9"
      },
      "execution_count": null,
      "outputs": [
        {
          "output_type": "display_data",
          "data": {
            "text/plain": [
              "<Figure size 500x500 with 2 Axes>"
            ],
            "image/png": "[encoded data removed]"
          },
          "metadata": {}
        }
      ]
    },
    {
      "cell_type": "code",
      "source": [
        "y_pred_probs_test = model.predict_proba(x_test)[:,1]\n",
        "y_pred_probs_test[0]\n",
        "\n",
        "fpr_test, tpr_test, thresholds_test = roc_curve(y_test, y_pred_probs_test, pos_label='1')\n",
        "\n",
        "plt.plot([0,1], [0,1], '--')\n",
        "plt.plot(fpr_test, tpr_test)\n",
        "plt.xlabel(\"False Positive Rate\")\n",
        "plt.ylabel(\"True Positive Rate\")\n",
        "plt.title('Logistic Regression ROC Curve')\n",
        "plt.show()"
      ],
      "metadata": {
        "colab": {
          "base_uri": "https://localhost:8080/",
          "height": 472
        },
        "id": "crizhQ91cuFA",
        "outputId": "cbea0d1c-cd0a-4592-a215-ac19988bbd1e"
      },
      "execution_count": null,
      "outputs": [
        {
          "output_type": "display_data",
          "data": {
            "text/plain": [
              "<Figure size 640x480 with 1 Axes>"
            ],
            "image/png": "[encoded data removed]"
          },
          "metadata": {}
        }
      ]
    },
    {
      "cell_type": "markdown",
      "source": [
        "*4.3. Building a predictive system*"
      ],
      "metadata": {
        "id": "bN7U21rzZ-za"
      }
    },
    {
      "cell_type": "code",
      "source": [
        "#first example taken from the existing dataset, the transaction already known to be not fraudulent\n",
        "input_data = (42.32, 3, 2, 1, 40, 1, 282, 23, 3)\n",
        "\n",
        "#changing input data into a numpy array\n",
        "input_data_as_numpy_array = np.asarray(input_data)\n",
        "\n",
        "#reshaping the numpy array (in order to predict only one instance/case)\n",
        "reshaped_input_data = input_data_as_numpy_array.reshape(1, -1)\n",
        "\n",
        "#making the prediction\n",
        "prediction = model.predict(reshaped_input_data)\n",
        "\n",
        "if prediction == ['1']:\n",
        "  print('The transaction is fraudulent.')\n",
        "else:\n",
        "  print('The transaction is not fraudulent.')"
      ],
      "metadata": {
        "colab": {
          "base_uri": "https://localhost:8080/"
        },
        "id": "xAw8mQWtUR4q",
        "outputId": "cbf460f2-42c7-4cac-ea14-07a774f7f346"
      },
      "execution_count": null,
      "outputs": [
        {
          "output_type": "stream",
          "name": "stdout",
          "text": [
            "The transaction is not fraudulent.\n"
          ]
        },
        {
          "output_type": "stream",
          "name": "stderr",
          "text": [
            "/usr/local/lib/python3.10/dist-packages/sklearn/base.py:439: UserWarning: X does not have valid feature names, but LogisticRegression was fitted with feature names\n",
            "  warnings.warn(\n"
          ]
        }
      ]
    },
    {
      "cell_type": "markdown",
      "source": [
        "***Conclusions***"
      ],
      "metadata": {
        "id": "jGyiomQGcLea"
      }
    },
    {
      "cell_type": "markdown",
      "source": [
        "The dataset is overall quite significantly imbalanced (class split between people with fraudulent transactions is not 50/50, but about 95/5, with ~95% of the transactions not being fraudulent).\n",
        "1. In the context of fraudulent transactions, accuracy is less important and precision or recall can be prioritised based on the specific implications of false positives and false negatives:\n",
        "*   If false positives are costly or have serious consequences (for example, unnecessarily flagging customers' accounts as fraudulent may lose sales), then prioritise precision;\n",
        "*    If false negatives are costly or have serious consequences (for example, discouraging fraudsters or reducing financial losses), then prioritise recall.\n",
        "2. This model's **accuracy score** is about **95%**, meaning the model correctly predicts the outcome 95% of the time. While this seems high, accuracy alone can be misleading, especially in imbalanced datasets where one class significantly outnumbers the other (which this dataset is).\n",
        "3. The model's **precision score** is  about **80%**. This indicates that when the model predicts an instance as positive, it is correct about 80% of the time. A high precision score is particularly important in applications where the cost of false positives is high.\n",
        "4. This model's **recall score** is about **10%**. This metric tells us that the model is only able to correctly identify approximately 10% of all actual positive cases. This low recall indicates that the model is highly conservative in predicting positives, leading to a high number of false negatives.\n",
        "3. Overall, the scores suggest a model that is highly precise but with poor recall. This means the model is very accurate when it predicts an instance is positive but fails to identify the majority of positive instances. The high accuracy might be misleading due to the imbalance in the dataset, making it a less reliable indicator of the model's performance in this context.\n",
        "*NOTE: The trade-off between precision and recall may need to be adjusted depending on the specific goals and requirements of the model's application which during the making of the model were unknown, therefore, some liberties by the creator had to be taken.*"
      ],
      "metadata": {
        "id": "oyTUrLcXcN4y"
      }
    }
  ]
}